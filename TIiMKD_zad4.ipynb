{
 "cells": [
  {
   "cell_type": "code",
   "execution_count": 2,
   "metadata": {},
   "outputs": [],
   "source": [
    "import string \n",
    "import pickle\n",
    "import math\n",
    "from bitarray import bitarray\n",
    "\n",
    "\n",
    "#Porownanie stringow\n",
    "def compare(original_text, decoded_text):\n",
    "    if original_text == decoded_text:\n",
    "        print('Tekst zgodny z oryginałem')\n",
    "    else:\n",
    "        print('Występują błędy')\n",
    "        \n",
    "#ustalenie kodu cyfr   \n",
    "def code_ints():\n",
    "    dict_ints = {}\n",
    "    digits=string.digits\n",
    "    j = 0\n",
    "    for digit in digits:\n",
    "        temp = bin(j)[2:]\n",
    "        if len(temp)<6:\n",
    "            for i in range(0,6-len(temp)):\n",
    "                temp=\"0\"+temp\n",
    "        dict_ints[digit] = temp\n",
    "        j+=1\n",
    "    return dict_ints\n",
    "\n",
    "#ustalenie kodu liter        \n",
    "def code_letters(letters):\n",
    "    dict_letters = {}\n",
    "    j = 10\n",
    "    for letter in letters:\n",
    "        temp = bin(j)[2:]\n",
    "        if len(temp)<6:\n",
    "            for i in range(0,6-len(temp)):\n",
    "                temp=\"0\"+temp\n",
    "        dict_letters[letter] = temp\n",
    "        j+=1\n",
    "    return dict_letters\n",
    "#kodowanie tekstu w oparciu o slownik z kodem\n",
    "def crypt(text,dictionary):\n",
    "    result = bitarray()\n",
    "    for i in text:\n",
    "        result.extend(dictionary[i])\n",
    "    return result\n",
    "#dekodowanie tekstu w oparciu o slownik z kodem\n",
    "def decrypt(barray,dictionary):\n",
    "    \n",
    "    char=\"\"\n",
    "    result =\"\"\n",
    "    value=\"\"\n",
    "    for i in barray:\n",
    "        if i==0:\n",
    "            pom = '0'\n",
    "        else:\n",
    "            pom = '1'\n",
    "        value+=pom\n",
    "        if len(value)==6:\n",
    "            for key in dictionary:\n",
    "                if dictionary[key]==value:\n",
    "                    char=key\n",
    "            result+=char\n",
    "            pom=\"\"\n",
    "            key=\"\"\n",
    "            value=\"\"\n",
    "    return result\n",
    "#odczyt danych z pliku tekstowego oraz slownika z kodem\n",
    "def reading_data(filetextname,codetextname):\n",
    "    f=open(filetextname, \"r\")\n",
    "    contents = f.read()\n",
    "    with open(codetextname, 'rb') as handle:\n",
    "        slownik = pickle.loads(handle.read())\n",
    "    return contents, slownik\n",
    "#przygotowanie kodu i zapisanie słownika\n",
    "def creating_code(filename):\n",
    "    alphabet=string.ascii_lowercase\n",
    "    alphaspace = ' ' + alphabet \n",
    "    dict_letters=code_letters(alphaspace)\n",
    "    dict_ints = code_ints()\n",
    "    dict_ints.update(dict_letters)\n",
    "    with open(filename, 'wb') as handle:\n",
    "      pickle.dump(dict_ints, handle)\n",
    "    return dict_ints\n",
    "#zapisuje zakodowany w bitarray tekstdo pliku\n",
    "def save_text(bit_text):\n",
    "    with open('coded_text.txt', 'wb') as handle:\n",
    "          pickle.dump(bit_text, handle)\n",
    "#czyta zakodowany w bitarrray teskt z pliku\n",
    "def open_text(codetextname):\n",
    "    with open('coded_text.txt', 'rb') as handle:\n",
    "      loaded = pickle.loads(handle.read())\n",
    "    with open(codetextname, 'rb') as handle:\n",
    "        slownik = pickle.loads(handle.read())\n",
    "    return loaded, slownik\n",
    "\n"
   ]
  },
  {
   "cell_type": "code",
   "execution_count": 18,
   "metadata": {},
   "outputs": [
    {
     "name": "stdout",
     "output_type": "stream",
     "text": [
      "Tekst zgodny z oryginałem\n"
     ]
    }
   ],
   "source": [
    "#tworzymy kod\n",
    "kod = creating_code(\"plikas.txt\")\n",
    "#wczytanie tekstu oraz slownika z pliku\n",
    "original_text, slownik = reading_data(\"sample.txt\",\"plikas.txt\")\n",
    "#szyfrowanie tekstu\n",
    "bit_text = crypt(original_text,slownik)\n",
    "#zapis zaszyfrowanego tekstu\n",
    "save_text(bit_text)\n",
    "#wczytanie zakodowanego tekstu razem ze slownikiem\n",
    "loaded_text, szyfr = open_text(\"plikas.txt\")\n",
    "#deszyfrowanie\n",
    "decoded_text = decrypt(loaded_text,slownik)\n",
    "#porownanie\n",
    "compare(original_text,decoded_text)\n"
   ]
  },
  {
   "cell_type": "code",
   "execution_count": 17,
   "metadata": {},
   "outputs": [
    {
     "data": {
      "text/plain": [
       "bitarray('01011001010110011100100100011010000101100101011')"
      ]
     },
     "execution_count": 17,
     "metadata": {},
     "output_type": "execute_result"
    }
   ],
   "source": [
    "\n"
   ]
  },
  {
   "cell_type": "code",
   "execution_count": null,
   "metadata": {},
   "outputs": [],
   "source": []
  },
  {
   "cell_type": "code",
   "execution_count": null,
   "metadata": {},
   "outputs": [],
   "source": []
  }
 ],
 "metadata": {
  "anaconda-cloud": {},
  "kernelspec": {
   "display_name": "Python 3",
   "language": "python",
   "name": "python3"
  },
  "language_info": {
   "codemirror_mode": {
    "name": "ipython",
    "version": 3
   },
   "file_extension": ".py",
   "mimetype": "text/x-python",
   "name": "python",
   "nbconvert_exporter": "python",
   "pygments_lexer": "ipython3",
   "version": "3.7.0"
  }
 },
 "nbformat": 4,
 "nbformat_minor": 1
}
